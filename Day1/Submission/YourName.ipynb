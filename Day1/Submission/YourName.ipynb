{
  "nbformat": 4,
  "nbformat_minor": 0,
  "metadata": {
    "colab": {
      "provenance": []
    },
    "kernelspec": {
      "name": "python3",
      "display_name": "Python 3"
    },
    "language_info": {
      "name": "python"
    }
  },
  "cells": [
    {
      "cell_type": "markdown",
      "source": [
        "**This is a demo file for uploading the Assessment of Day 1**"
      ],
      "metadata": {
        "id": "TolKLwTgNqSa"
      }
    }
  ]
}